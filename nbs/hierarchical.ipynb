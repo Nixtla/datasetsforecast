{
 "cells": [
  {
   "cell_type": "code",
   "execution_count": null,
   "metadata": {},
   "outputs": [],
   "source": [
    "# default_exp hierarchical"
   ]
  },
  {
   "cell_type": "markdown",
   "metadata": {},
   "source": [
    "# Hirarchical Datasets\n",
    "\n",
    "> Module for Hierarchical Datasets."
   ]
  },
  {
   "cell_type": "code",
   "execution_count": null,
   "metadata": {},
   "outputs": [],
   "source": [
    "#export\n",
    "from dataclasses import dataclass\n",
    "from pathlib import Path\n",
    "from typing import Tuple\n",
    "\n",
    "import pandas as pd\n",
    "\n",
    "from datasetsforecast.utils import download_file, Info"
   ]
  },
  {
   "cell_type": "code",
   "execution_count": null,
   "metadata": {},
   "outputs": [],
   "source": [
    "#export\n",
    "@dataclass\n",
    "class Labour:\n",
    "    freq: str = 'M'"
   ]
  },
  {
   "cell_type": "code",
   "execution_count": null,
   "metadata": {},
   "outputs": [],
   "source": [
    "#export\n",
    "@dataclass\n",
    "class Tourism:\n",
    "    freq: str = 'Q'"
   ]
  },
  {
   "cell_type": "code",
   "execution_count": null,
   "metadata": {},
   "outputs": [],
   "source": [
    "#export\n",
    "@dataclass\n",
    "class TourismLarge:\n",
    "    freq: str = 'M'"
   ]
  },
  {
   "cell_type": "code",
   "execution_count": null,
   "metadata": {},
   "outputs": [],
   "source": [
    "#export\n",
    "@dataclass\n",
    "class TourismSmall:\n",
    "    freq: str = 'Q'"
   ]
  },
  {
   "cell_type": "code",
   "execution_count": null,
   "metadata": {},
   "outputs": [],
   "source": [
    "#export\n",
    "@dataclass\n",
    "class Traffic:\n",
    "    freq: str = 'D'"
   ]
  },
  {
   "cell_type": "code",
   "execution_count": null,
   "metadata": {},
   "outputs": [],
   "source": [
    "#export\n",
    "@dataclass\n",
    "class Wiki2:\n",
    "    freq: str = 'D'"
   ]
  },
  {
   "cell_type": "code",
   "execution_count": null,
   "metadata": {},
   "outputs": [],
   "source": [
    "#export\n",
    "HierarchicalInfo = Info(\n",
    "    (\n",
    "        Labour, Tourism, TourismLarge, \n",
    "        TourismSmall,\n",
    "        Traffic, Wiki2\n",
    "    )\n",
    ")"
   ]
  },
  {
   "cell_type": "code",
   "execution_count": null,
   "metadata": {},
   "outputs": [],
   "source": [
    "#export\n",
    "class HierarchicalData:\n",
    "    \n",
    "    source_url: str = 'https://nixtla-public.s3.amazonaws.com/hierarchical-data/datasets.zip'\n",
    "\n",
    "    @staticmethod\n",
    "    def load(directory: str,\n",
    "             group: str,\n",
    "             cache: bool = True) -> Tuple[pd.DataFrame, pd.DataFrame]:\n",
    "        \"\"\"\n",
    "        Downloads hierarchical forecasting benchmark datasets.\n",
    "        \n",
    "            Parameters\n",
    "            ----------\n",
    "            directory: str\n",
    "                Directory where data will be downloaded.\n",
    "            group: str\n",
    "                Group name.\n",
    "            cache: bool\n",
    "                If `True` saves and loads\n",
    "                \n",
    "            Returns\n",
    "            -------\n",
    "            Y_df: pd.DataFrame\n",
    "                Target time series with columns ['unique_id', 'ds', 'y'].\n",
    "                Containes the base time series.\n",
    "            S: pd.DataFrame\n",
    "                Summing matrix of size (hierarchies, bottom).\n",
    "        \"\"\"\n",
    "        if group not in HierarchicalInfo.groups:\n",
    "            raise Exception(f'group not found {group}')\n",
    "\n",
    "        path = f'{directory}/hierarchical/'\n",
    "        file_cache = Path(f'{path}/{group}.p')\n",
    "\n",
    "        if file_cache.is_file() and cache:\n",
    "            Y_df, S = pd.read_pickle(file_cache)\n",
    "\n",
    "            return Y_df, S\n",
    "\n",
    "        HierarchicalData.download(directory)\n",
    "        path = Path(f'{path}/{group}')\n",
    "        S = pd.read_csv(path / 'agg_mat.csv', index_col=0) \n",
    "        Y_df = pd.read_csv(path / 'data.csv', index_col=0).T\n",
    "        Y_df = Y_df.stack()\n",
    "        Y_df.name = 'y'\n",
    "        Y_df.index = Y_df.index.set_names(['unique_id', 'ds'])\n",
    "        Y_df = Y_df.reset_index()\n",
    "        \n",
    "        if not all(Y_df['unique_id'].unique() == S.index):\n",
    "            raise Exception('mismatch order between `Y_df` and `S`')\n",
    "                    \n",
    "        if cache:\n",
    "            pd.to_pickle((Y_df, S), file_cache)\n",
    "\n",
    "        return Y_df, S\n",
    "\n",
    "    \n",
    "    @staticmethod\n",
    "    def download(directory: str) -> None:\n",
    "        \"\"\"\n",
    "        Download Hierarchical Datasets.\n",
    "        \n",
    "            Parameters\n",
    "            ----------\n",
    "            directory: str\n",
    "                Directory path to download dataset.\n",
    "        \"\"\"\n",
    "        path = f'{directory}/hierarchical/'\n",
    "        if not Path(path).exists():\n",
    "             download_file(path, HierarchicalData.source_url, decompress=True)"
   ]
  },
  {
   "cell_type": "code",
   "execution_count": null,
   "metadata": {},
   "outputs": [],
   "source": [
    "for group, _ in HierarchicalInfo:\n",
    "    Y_df, S = HierarchicalData.load('./data', group)"
   ]
  }
 ],
 "metadata": {
  "kernelspec": {
   "display_name": "Python 3 (ipykernel)",
   "language": "python",
   "name": "python3"
  }
 },
 "nbformat": 4,
 "nbformat_minor": 4
}
