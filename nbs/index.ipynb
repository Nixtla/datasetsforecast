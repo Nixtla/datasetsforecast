{
 "cells": [
  {
   "cell_type": "markdown",
   "id": "4001a701-2799-4530-8552-06ccb47216df",
   "metadata": {},
   "source": [
    "# datasetsforecast"
   ]
  },
  {
   "cell_type": "markdown",
   "id": "8ae95d17-02e0-4585-bb3f-0455ac07bfce",
   "metadata": {},
   "source": [
    "Datasets for time series forecasting"
   ]
  },
  {
   "cell_type": "markdown",
   "id": "44847057-dae0-4d25-a631-89e67c732d00",
   "metadata": {},
   "source": [
    "## Install"
   ]
  },
  {
   "cell_type": "markdown",
   "id": "bd8e678e-eb7c-4511-9ead-cdeb5e7f89e9",
   "metadata": {},
   "source": [
    "```sh\n",
    "pip install datasetsforecast\n",
    "```"
   ]
  },
  {
   "cell_type": "markdown",
   "id": "85aed5e5-928d-4ec2-aad8-07157908df78",
   "metadata": {},
   "source": [
    "## Datasets"
   ]
  },
  {
   "cell_type": "markdown",
   "id": "05743a47-623d-44cf-a1a5-4def3602ca4b",
   "metadata": {},
   "source": [
    "* [Favorita](favorita.ipynb)\n",
    "* [Hierarchical](hierarchical.ipynb)\n",
    "* [Long horizon](long_horizon.ipynb)\n",
    "* [M3](m3.ipynb)\n",
    "* [M4](m4.ipynb)\n",
    "* [M5](m5.ipynb)\n",
    "* [PHM2008](phm2008.ipynb)"
   ]
  },
  {
   "cell_type": "markdown",
   "id": "7c29731f-c59d-4b4d-96a1-ef944a89402f",
   "metadata": {},
   "source": [
    "## How to use"
   ]
  },
  {
   "cell_type": "markdown",
   "id": "a794ba31-5b78-47db-8668-db1da0f624dc",
   "metadata": {},
   "source": [
    "All the modules have a `load` method which you can use to load the dataset for a specific group. If you don't have the data locally it will be downloaded for you."
   ]
  },
  {
   "cell_type": "code",
   "execution_count": null,
   "id": "b22a3efc-39ff-4f26-8935-95579caebde9",
   "metadata": {},
   "outputs": [],
   "source": [
    "from datasetsforecast.phm2008 import PHM2008"
   ]
  },
  {
   "cell_type": "code",
   "execution_count": null,
   "id": "24f57a93-17fa-4e31-a0c2-80865f5298a0",
   "metadata": {},
   "outputs": [
    {
     "data": {
      "text/plain": [
       "((20631, 17), (13096, 17))"
      ]
     },
     "execution_count": null,
     "metadata": {},
     "output_type": "execute_result"
    }
   ],
   "source": [
    "train_df, test_df = PHM2008.load(directory='data', group='FD001')\n",
    "train_df.shape, test_df.shape"
   ]
  }
 ],
 "metadata": {
  "kernelspec": {
   "display_name": "python3",
   "language": "python",
   "name": "python3"
  }
 },
 "nbformat": 4,
 "nbformat_minor": 5
}
