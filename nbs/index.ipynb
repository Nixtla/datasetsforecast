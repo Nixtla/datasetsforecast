{
 "cells": [
  {
   "cell_type": "markdown",
   "id": "4001a701-2799-4530-8552-06ccb47216df",
   "metadata": {},
   "source": [
    "# datasetsforecast"
   ]
  },
  {
   "cell_type": "markdown",
   "id": "8ae95d17-02e0-4585-bb3f-0455ac07bfce",
   "metadata": {},
   "source": [
    "Datasets for time series forecasting"
   ]
  }
 ],
 "metadata": {
  "kernelspec": {
   "display_name": "python3",
   "language": "python",
   "name": "python3"
  }
 },
 "nbformat": 4,
 "nbformat_minor": 5
}
